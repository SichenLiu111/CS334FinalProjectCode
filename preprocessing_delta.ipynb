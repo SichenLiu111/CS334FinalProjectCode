{
 "cells": [
  {
   "cell_type": "code",
   "execution_count": 1,
   "metadata": {},
   "outputs": [],
   "source": [
    "import pandas as pd\n",
    "import numpy as np\n",
    "from sklearn.preprocessing import StandardScaler\n",
    "from sklearn.model_selection import train_test_split\n",
    "from sklearn.preprocessing import StandardScaler\n",
    "import seaborn as sns\n",
    "import matplotlib.pyplot as plt"
   ]
  },
  {
   "cell_type": "code",
   "execution_count": null,
   "metadata": {},
   "outputs": [],
   "source": [
    "# Load the data\n",
    "file_path = 'aia.us.csv'  # File path\n",
    "df = pd.read_csv(file_path)\n",
    "\n",
    "## preprocessing\n",
    "\n",
    "# Add new features\n",
    "# 1. Simple Return (Close - Open) feature\n",
    "df['Simple_Return'] = (df['Close'] - df['Open'])/df['Open']\n",
    "# 2. Log Return feature Using Close price (Log Return = ln(Close_t / Close_t-1) * 100)\n",
    "df['Log_Return_Percentage'] = np.log(df['Close'] / df['Close'].shift(1)) * 100\n",
    "\n",
    "\n",
    "# drop the OpenInt feature\n",
    "df = df.drop('OpenInt', axis=1)\n",
    "\n",
    "# detect missing data, and replace all empty spaces or null values with NaN\n",
    "df = df.fillna(value=np.nan)\n",
    "\n",
    "# Label\n",
    "df['label'] = (df['Log_Return_Percentage'] > 0).astype(int)\n",
    "\n",
    "# remove the first four rows (they contains NaN values because of the feature calculation, so remove)\n",
    "df = df.iloc[4:]\n",
    "\n",
    "df"
   ]
  }
 ],
 "metadata": {
  "kernelspec": {
   "display_name": "base",
   "language": "python",
   "name": "python3"
  },
  "language_info": {
   "codemirror_mode": {
    "name": "ipython",
    "version": 3
   },
   "file_extension": ".py",
   "mimetype": "text/x-python",
   "name": "python",
   "nbconvert_exporter": "python",
   "pygments_lexer": "ipython3",
   "version": "3.11.4"
  }
 },
 "nbformat": 4,
 "nbformat_minor": 2
}

{
 "cells": [
  {
   "cell_type": "code",
   "execution_count": 4,
   "metadata": {},
   "outputs": [],
   "source": [
    "import pandas as pd\n",
    "import numpy as np\n",
    "from sklearn.preprocessing import StandardScaler\n",
    "from sklearn.model_selection import train_test_split\n",
    "import seaborn as sns\n",
    "import matplotlib.pyplot as plt\n",
    "from scipy import stats\n",
    "from sklearn.neighbors import KNeighborsClassifier\n",
    "from sklearn.ensemble import RandomForestClassifier\n",
    "from sklearn.svm import SVC\n",
    "from xgboost import XGBClassifier\n",
    "from sklearn.linear_model import LogisticRegression\n",
    "from sklearn.metrics import roc_curve, auc, f1_score"
   ]
  },
  {
   "cell_type": "code",
   "execution_count": 2,
   "metadata": {},
   "outputs": [],
   "source": [
    "# import the training and test datasets\n",
    "xTrain = pd.read_csv(\"preprocess/preprocessed_data/xTrain.csv\")\n",
    "yTrain = pd.read_csv(\"preprocess/preprocessed_data/yTrain_discrete.csv\")\n",
    "xTest = pd.read_csv(\"preprocess/preprocessed_data/xTest.csv\")\n",
    "yTest = pd.read_csv(\"preprocess/preprocessed_data/yTest_discrete.csv\")"
   ]
  },
  {
   "cell_type": "code",
   "execution_count": 3,
   "metadata": {},
   "outputs": [],
   "source": [
    "# KNN, optimal: n = 9, metric = manhattan\n",
    "knn = KNeighborsClassifier(n_neighbors=9, metric=\"manhattan\")\n",
    "\n",
    "knn.fit(xTrain, yTrain.values.ravel())\n",
    "proba_knn = knn.predict_proba(xTest)[:, 1]\n",
    "\n",
    "fpr_knn, tpr_knn, thresholds_knn = roc_curve(yTest, proba_knn)\n",
    "roc_auc_knn = auc(fpr_knn, tpr_knn)"
   ]
  },
  {
   "cell_type": "code",
   "execution_count": 13,
   "metadata": {},
   "outputs": [],
   "source": [
    "# Random Forest, optimal: \n",
    "rf = RandomForestClassifier(\n",
    "        bootstrap=True, \n",
    "        max_depth=4, \n",
    "        min_samples_leaf=4, \n",
    "        min_samples_split=10, \n",
    "        n_estimators=100\n",
    "    )\n",
    "\n",
    "rf.fit(xTrain, yTrain.values.ravel())\n",
    "proba_rf = rf.predict_proba(xTest)[:, 1]\n",
    "\n",
    "fpr_rf, tpr_rf, thresholds_rf = roc_curve(yTest, proba_rf)\n",
    "roc_auc_rf = auc(fpr_rf, tpr_rf)"
   ]
  },
  {
   "cell_type": "code",
   "execution_count": 5,
   "metadata": {},
   "outputs": [],
   "source": [
    "# Support Vector Machine, optimal:\n",
    "svc = SVC(kernel=\"rbf\", C=10)\n",
    "\n",
    "svc.fit(xTrain, yTrain.values.ravel())\n",
    "proba_svc = svc.decision_function(xTest)\n",
    "\n",
    "fpr_svc, tpr_svc, thresholds_svc = roc_curve(yTest, proba_svc)\n",
    "roc_auc_svc = auc(fpr_svc, tpr_svc)"
   ]
  },
  {
   "cell_type": "code",
   "execution_count": null,
   "metadata": {},
   "outputs": [],
   "source": [
    "# Extreme Gradiant Boosting, optimal:\n",
    "xgb= XGBClassifier(max_depth=5, learning_rate=0.01, subsample=0.6)\n",
    "\n",
    "xgb.fit(xTrain, yTrain.values.ravel())\n",
    "proba_xgb = xgb.predict_proba(xTest)[:, 1]\n",
    "\n",
    "fpr_xgb, tpr_xgb, thresholds_xgb = roc_curve(yTest, proba_xgb)\n",
    "roc_auc_xgb = auc(fpr_xgb, tpr_xgb)"
   ]
  },
  {
   "cell_type": "code",
   "execution_count": null,
   "metadata": {},
   "outputs": [],
   "source": [
    "# Logistic Regression, optimal:\n",
    "lr = LogisticRegression()\n",
    "\n",
    "lr.fit(xTrain, yTrain.values.ravel())\n",
    "proba_lr = lr.predict_proba(xTest)[:, 1]\n",
    "\n",
    "fpr_lr, tpr_lr, thresholds_lr = roc_curve(yTest, proba_lr)\n",
    "roc_auc_lr = auc(fpr_lr, tpr_lr)"
   ]
  },
  {
   "cell_type": "code",
   "execution_count": null,
   "metadata": {},
   "outputs": [],
   "source": [
    "# draw ROC for the 5 models\n",
    "fprs = [fpr_knn, fpr_rf, fpr_svc, fpr_xgb, fpr_lr]\n",
    "tprs = [tpr_knn, tpr_rf, tpr_svc, tpr_xgb, fpr_lr]\n",
    "roc_aucs = [roc_auc_knn, roc_auc_rf, roc_auc_svc, roc_auc_xgb, roc_auc_lr]\n",
    "\n",
    "labels = [\"KNN\", \"Random Forest\", \"SVM\", \"XGBoost\", \"LR\"]\n",
    "\n",
    "plt.figure(figsize=(9, 6))\n",
    "\n",
    "for i in range(len(fprs)):\n",
    "    plt.plot(fprs[i], tprs[i], label='{} (AUC = {:.2f})'.format(labels[i], roc_aucs[i]))\n",
    "\n",
    "plt.plot([0, 1], [0, 1], color='navy', lw=2, linestyle='--')\n",
    "\n",
    "plt.xlabel(\"False Positive Rate\")\n",
    "plt.ylabel(\"True Positive Rate\")\n",
    "plt.title(\"Receiver Operating Characteristic (ROC) Curve for Multiple Groups\")\n",
    "plt.legend(loc=\"upper right\")\n",
    "\n",
    "plt.show()"
   ]
  }
 ],
 "metadata": {
  "kernelspec": {
   "display_name": "base",
   "language": "python",
   "name": "python3"
  },
  "language_info": {
   "codemirror_mode": {
    "name": "ipython",
    "version": 3
   },
   "file_extension": ".py",
   "mimetype": "text/x-python",
   "name": "python",
   "nbconvert_exporter": "python",
   "pygments_lexer": "ipython3",
   "version": "3.11.4"
  }
 },
 "nbformat": 4,
 "nbformat_minor": 2
}

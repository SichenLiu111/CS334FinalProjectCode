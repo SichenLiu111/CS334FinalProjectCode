{
 "cells": [
  {
   "cell_type": "markdown",
   "metadata": {},
   "source": [
    "This file is used to generate the raw data for the project."
   ]
  },
  {
   "cell_type": "code",
   "execution_count": 4,
   "metadata": {},
   "outputs": [],
   "source": [
    "import pandas as pd\n",
    "import glob"
   ]
  },
  {
   "cell_type": "code",
   "execution_count": 5,
   "metadata": {},
   "outputs": [],
   "source": [
    "# read all file names from a directory\n",
    "filenames = glob.glob(\"ETFs\" + \"/*.csv\")"
   ]
  },
  {
   "cell_type": "code",
   "execution_count": 6,
   "metadata": {},
   "outputs": [],
   "source": [
    "# generate the raw data file\n",
    "etfs_included = []\n",
    "df = pd.read_csv(filenames[0])\n",
    "df[\"ETFs_index\"] = 0\n",
    "count = 0\n",
    "for file in filenames:\n",
    "    if (count >= 100):\n",
    "        break\n",
    "    try:\n",
    "        cur_df = pd.read_csv(file)\n",
    "        cur_df[\"ETFs_index\"] = count\n",
    "        df = pd.concat([df, cur_df], ignore_index=True)\n",
    "        count += 1\n",
    "        etfs_included.append[file]\n",
    "    except Exception as e:\n",
    "        print(f\"Error reading {file}: {e}\")\n",
    "\n",
    "df.to_csv(\"preprocess/rawdata.csv\", index=False)\n"
   ]
  }
 ],
 "metadata": {
  "kernelspec": {
   "display_name": "base",
   "language": "python",
   "name": "python3"
  },
  "language_info": {
   "codemirror_mode": {
    "name": "ipython",
    "version": 3
   },
   "file_extension": ".py",
   "mimetype": "text/x-python",
   "name": "python",
   "nbconvert_exporter": "python",
   "pygments_lexer": "ipython3",
   "version": "3.11.4"
  }
 },
 "nbformat": 4,
 "nbformat_minor": 2
}

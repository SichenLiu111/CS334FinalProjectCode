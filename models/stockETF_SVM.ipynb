{
  "cells": [
    {
      "cell_type": "code",
      "execution_count": 1,
      "metadata": {
        "id": "Z4RCeF03NMRc"
      },
      "outputs": [],
      "source": [
        "import pandas as pd\n",
        "import numpy as np\n",
        "import matplotlib.pyplot as plt\n",
        "from sklearn.svm import SVC\n",
        "from sklearn.model_selection import KFold\n",
        "from sklearn.model_selection import GridSearchCV\n",
        "from sklearn.metrics import accuracy_score, roc_curve, auc, f1_score, roc_auc_score"
      ]
    },
    {
      "cell_type": "code",
      "execution_count": 2,
      "metadata": {
        "id": "3wkk2ekjNMRe"
      },
      "outputs": [],
      "source": [
        "# import dataset\n",
        "xTrain = pd.read_csv(\"xTrain.csv\")\n",
        "yTrain = pd.read_csv(\"yTrain_discrete.csv\")\n",
        "xTest = pd.read_csv(\"xTest.csv\")\n",
        "yTest = pd.read_csv(\"yTest_discrete.csv\")"
      ]
    },
    {
      "cell_type": "code",
      "execution_count": 3,
      "metadata": {
        "colab": {
          "base_uri": "https://localhost:8080/"
        },
        "id": "zPMe8A0uNMRe",
        "outputId": "2e423c5d-db15-421a-8615-0d2591ca6629"
      },
      "outputs": [
        {
          "output_type": "stream",
          "name": "stdout",
          "text": [
            "Kernal:  linear\n",
            "Accuracy:  0.6141331714249473\n",
            "Kernal:  rbf\n",
            "Accuracy:  0.6164982722865426\n",
            "Kernal:  poly\n",
            "Accuracy:  0.6069702753022758\n",
            "Kernal:  sigmoid\n",
            "Accuracy:  0.5325116892600531\n"
          ]
        }
      ],
      "source": [
        "## hyper parameter tuning manually\n",
        "\n",
        "# for kernal\n",
        "k_fold = KFold(n_splits=3, shuffle=True, random_state=334)\n",
        "\n",
        "kernals = [\"linear\", \"rbf\", \"poly\", \"sigmoid\"]\n",
        "\n",
        "for k in kernals:\n",
        "    acc_scores = []\n",
        "    for train_index, validation_index in k_fold.split(xTrain):\n",
        "        cur_model = SVC(kernel=k, C=1)\n",
        "        cur_model.fit(xTrain.iloc[train_index], np.ravel(yTrain.iloc[train_index]))\n",
        "        acc_scores.append(cur_model.score(xTrain.iloc[validation_index], np.ravel(yTrain.iloc[validation_index])))\n",
        "    print(\"Kernal: \", k)\n",
        "    print(\"Accuracy: \", np.mean(acc_scores))"
      ]
    },
    {
      "cell_type": "code",
      "execution_count": null,
      "metadata": {
        "colab": {
          "base_uri": "https://localhost:8080/"
        },
        "id": "9XifH_H4NMRf",
        "outputId": "35f63054-26d4-43ce-9585-5d4b4a1c0851"
      },
      "outputs": [
        {
          "metadata": {
            "tags": null
          },
          "name": "stdout",
          "output_type": "stream",
          "text": [
            "Soft margin:  0.1\n",
            "Accuracy:  0.6141078312328686\n",
            "Soft margin:  1\n",
            "Accuracy:  0.6141331714249473\n",
            "Soft margin:  10\n",
            "Accuracy:  0.6141416181556402\n",
            "Soft margin:  20\n",
            "Accuracy:  0.6141331709968528\n"
          ]
        }
      ],
      "source": [
        "# for the soft margin\n",
        "k_fold = KFold(n_splits=3, shuffle=True, random_state=334)\n",
        "\n",
        "soft_margins = [0.1, 1, 10, 20]\n",
        "\n",
        "avg_accuracies = []\n",
        "for soft_margin in soft_margins:\n",
        "    acc_scores = []\n",
        "    for train_index, validation_index in k_fold.split(xTrain):\n",
        "        cur_model = SVC(kernel=\"linear\", C=soft_margin)\n",
        "        cur_model.fit(xTrain.iloc[train_index], np.ravel(yTrain.iloc[train_index]))\n",
        "        acc_scores.append(cur_model.score(xTrain.iloc[validation_index], np.ravel(yTrain.iloc[validation_index])))\n",
        "    avg_accuracy = np.mean(acc_scores)\n",
        "    avg_accuracies.append(avg_accuracy)\n",
        "    print(\"Soft margin: \", soft_margin)\n",
        "    print(\"Accuracy: \", avg_accuracy)\n",
        "\n",
        "plt.plot(soft_margins, avg_accuracies)\n",
        "plt.xlabel(\"Soft Margin Values\")\n",
        "plt.ylabel(\"Accuracy of Validation Dataset\")\n",
        "plt.show\n"
      ]
    },
    {
      "cell_type": "code",
      "execution_count": 6,
      "metadata": {
        "colab": {
          "base_uri": "https://localhost:8080/"
        },
        "id": "-_aoEy8jNMRf",
        "outputId": "076b0b37-3775-4d94-c3b3-191a15bd1b53"
      },
      "outputs": [
        {
          "output_type": "stream",
          "name": "stdout",
          "text": [
            "Training accuracy with optimal hyper parameter:  0.6218789066459438\n",
            "Test accuracy with optimal hyper parameter:  0.6027096425434151\n"
          ]
        }
      ],
      "source": [
        "# train the support vector machine model with the optimal hyper parameters: kernal = \"linear\", soft margin = 15\n",
        "clf = SVC(kernel=\"rbf\", C=10)\n",
        "clf.fit(xTrain, yTrain.values.ravel())\n",
        "# get the accuracy on the training dataset\n",
        "acc = clf.score(xTrain, yTrain)\n",
        "print(\"Training accuracy with optimal hyper parameter: \", acc)\n",
        "# predict on test dataset\n",
        "acc = clf.score(xTest, yTest)\n",
        "print(\"Test accuracy with optimal hyper parameter: \", acc)"
      ]
    },
    {
      "cell_type": "code",
      "execution_count": 7,
      "metadata": {
        "id": "62TU9lkRNMRg"
      },
      "outputs": [],
      "source": [
        "# Evaluation\n",
        "y_proba = clf.decision_function(xTest)\n",
        "\n",
        "# Calculate ROC curve\n",
        "fpr, tpr, thresholds = roc_curve(yTest, y_proba)\n",
        "roc_auc = auc(fpr, tpr)"
      ]
    },
    {
      "cell_type": "code",
      "execution_count": 8,
      "metadata": {
        "colab": {
          "base_uri": "https://localhost:8080/",
          "height": 490
        },
        "id": "UfUWeU5cZLnQ",
        "outputId": "f64fb09d-cda8-44e6-d6a1-6d740f1d4dfc"
      },
      "outputs": [
        {
          "output_type": "display_data",
          "data": {
            "text/plain": [
              "<Figure size 640x480 with 1 Axes>"
            ],
            "image/png": "[encoded data removed]"
          },
          "metadata": {}
        },
        {
          "output_type": "stream",
          "name": "stdout",
          "text": [
            "AUC: 0.6315498771439219\n"
          ]
        }
      ],
      "source": [
        "# Plot ROC curve\n",
        "plt.plot(fpr, tpr, color=\"darkorange\", lw=2, label=\"ROC curve (AUC = {:.2f})\".format(roc_auc))\n",
        "plt.plot([0, 1], [0, 1], color=\"navy\", lw=2, linestyle='--')\n",
        "plt.xlabel(\"False Positive Rate\")\n",
        "plt.ylabel(\"True Positive Rate\")\n",
        "plt.title(\"SVM ROC Curve\")\n",
        "plt.legend(loc=\"lower right\")\n",
        "plt.show()\n",
        "\n",
        "# Calculate AUC\n",
        "print(\"AUC:\", roc_auc)"
      ]
    },
    {
      "cell_type": "code",
      "execution_count": 6,
      "metadata": {
        "colab": {
          "base_uri": "https://localhost:8080/"
        },
        "id": "GuhfDp_AZMX8",
        "outputId": "0d48064e-e8b3-4768-cf16-a52a3becfa3e"
      },
      "outputs": [
        {
          "output_type": "stream",
          "name": "stdout",
          "text": [
            "F1 Score: 0.6464415646892571\n"
          ]
        }
      ],
      "source": [
        "# Predict on test dataset\n",
        "yHat = clf.predict(xTest)\n",
        "\n",
        "# Calculate F1 score\n",
        "f1 = f1_score(yTest, yHat)\n",
        "print(\"F1 Score:\", f1)"
      ]
    },
    {
      "cell_type": "code",
      "source": [
        "# Grid Search\n",
        "param_grid = {\n",
        "    'C': [0.1, 1, 10, 100],\n",
        "    'kernel': ['linear', 'rbf', 'poly']\n",
        "}\n",
        "model = SVC()\n",
        "grid_search = GridSearchCV(estimator=model, param_grid=param_grid, cv=3, scoring='accuracy')\n",
        "grid_search.fit(xTrain, yTrain.values.ravel())\n",
        "\n",
        "best_params = grid_search.best_params_\n",
        "print(best_params)\n",
        "\n",
        "best_model = grid_search.best_estimator_\n",
        "y_pred = best_model.predict(xTest)\n",
        "\n",
        "accuracy = accuracy_score(yTest, y_pred)\n",
        "print(\"Accuracy:\", accuracy)\n",
        "\n",
        "# Calculate F1 score\n",
        "f1 = f1_score(yTest, y_pred)\n",
        "print(\"F1 Score:\", f1)\n",
        "\n",
        "# Evaluation\n",
        "y_proba = model.predict_proba(xTest)[:, 1]\n",
        "\n",
        "# Calculate ROC curve\n",
        "fpr, tpr, thresholds = roc_curve(yTest, y_proba)\n",
        "roc_auc = auc(fpr, tpr)\n",
        "\n",
        "# Plot ROC curve\n",
        "plt.plot(fpr, tpr, color=\"darkorange\", lw=2, label=\"ROC curve (AUC = {:.2f})\".format(roc_auc))\n",
        "plt.plot([0, 1], [0, 1], color=\"navy\", lw=2, linestyle='--')\n",
        "plt.xlabel(\"False Positive Rate\")\n",
        "plt.ylabel(\"True Positive Rate\")\n",
        "plt.title(\"SVM ROC Curve\")\n",
        "plt.legend(loc=\"lower right\")\n",
        "plt.show()\n",
        "\n",
        "# Calculate AUC\n",
        "print(\"AUC:\", roc_auc)"
      ],
      "metadata": {
        "id": "6SwzE4kk-I91"
      },
      "execution_count": null,
      "outputs": []
    }
  ],
  "metadata": {
    "colab": {
      "provenance": []
    },
    "kernelspec": {
      "display_name": "base",
      "language": "python",
      "name": "python3"
    },
    "language_info": {
      "codemirror_mode": {
        "name": "ipython",
        "version": 3
      },
      "file_extension": ".py",
      "mimetype": "text/x-python",
      "name": "python",
      "nbconvert_exporter": "python",
      "pygments_lexer": "ipython3",
      "version": "3.11.4"
    }
  },
  "nbformat": 4,
  "nbformat_minor": 0
}